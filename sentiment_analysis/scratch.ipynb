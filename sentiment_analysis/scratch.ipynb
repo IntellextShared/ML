{
 "cells": [
  {
   "cell_type": "code",
   "execution_count": 6,
   "metadata": {},
   "outputs": [],
   "source": [
    "from WikiSplitLaserTagger import bert_example\n",
    "from WikiSplitLaserTagger import predict_utils\n",
    "from WikiSplitLaserTagger import tagging_converter\n",
    "from WikiSplitLaserTagger import utils\n",
    "\n",
    "import tensorflow as tf"
   ]
  },
  {
   "cell_type": "code",
   "execution_count": 10,
   "metadata": {},
   "outputs": [
    {
     "name": "stdout",
     "output_type": "stream",
     "text": [
      "/mnt/Data1/Stuff/intellext/ML/sentiment_analysis\n"
     ]
    }
   ],
   "source": [
    "import os\n",
    "print(os.getcwd())"
   ]
  },
  {
   "cell_type": "code",
   "execution_count": 12,
   "metadata": {},
   "outputs": [
    {
     "name": "stdout",
     "output_type": "stream",
     "text": [
      "INFO:tensorflow:Restoring parameters from WikiSplitLaserTagger/model/1624510216/variables/variables\n"
     ]
    }
   ],
   "source": [
    "model_path = \"WikiSplitLaserTagger/model/\"\n",
    "label_map = utils.read_label_map(model_path + \"label_map.txt\")\n",
    "vocab_file = model_path + \"vocab.txt\"\n",
    "model_ckpt_path = model_path + \"1624510216\"\n",
    "converter = tagging_converter.TaggingConverter(\n",
    "    tagging_converter.get_phrase_vocabulary_from_label_map(label_map),\n",
    "    True)\n",
    "builder = bert_example.BertExampleBuilder(label_map, vocab_file,\n",
    "                                        128,\n",
    "                                        False, converter)\n",
    "predictor = predict_utils.LaserTaggerPredictor(\n",
    "    tf.contrib.predictor.from_saved_model(model_ckpt_path), builder,\n",
    "    label_map)"
   ]
  },
  {
   "cell_type": "code",
   "execution_count": 73,
   "metadata": {},
   "outputs": [],
   "source": [
    "sources = [\"Due to the hurricane , Lobsterfest has been canceled , making Bob very happy about it and he decides to open Bob 's Burgers for customers who were planning on going to Lobsterfest .\",\n",
    "            \"Home world of the Marglotta located in the Sagittarius Arm.\",\n",
    "            \"Your pricing rates look very competitive but the delivery system is excellent.\"\n",
    "            ]\n",
    "sources2 = [\"Home world of the Marglotta located in the Sagittarius Arm.\"]\n",
    "sources3 = [\"Your pricing rates look very competitive but the delivery system is excellent.\"]\n",
    "prediction = predictor.predict(sources)"
   ]
  },
  {
   "cell_type": "code",
   "execution_count": 74,
   "metadata": {},
   "outputs": [
    {
     "data": {
      "text/plain": [
       "\"Due to the hurricane , Lobsterfest has been canceled , making Bob very happy about it . <::::> he decides to open Bob 's Burgers for customers who were planning on in the Sagittarius Arm. your pricing rates look very competitive but the delivery system is excellent.\""
      ]
     },
     "execution_count": 74,
     "metadata": {},
     "output_type": "execute_result"
    }
   ],
   "source": [
    "prediction"
   ]
  },
  {
   "cell_type": "code",
   "execution_count": null,
   "metadata": {},
   "outputs": [],
   "source": []
  },
  {
   "cell_type": "code",
   "execution_count": null,
   "metadata": {},
   "outputs": [],
   "source": []
  }
 ],
 "metadata": {
  "interpreter": {
   "hash": "cdb9d228dca56cbeac75029ad99e15993b9abac2ec327a2eb963b3368caa8460"
  },
  "kernelspec": {
   "display_name": "Python 3.7.10 64-bit ('Intellext2': conda)",
   "name": "python3"
  },
  "language_info": {
   "codemirror_mode": {
    "name": "ipython",
    "version": 3
   },
   "file_extension": ".py",
   "mimetype": "text/x-python",
   "name": "python",
   "nbconvert_exporter": "python",
   "pygments_lexer": "ipython3",
   "version": "3.7.10"
  },
  "orig_nbformat": 4
 },
 "nbformat": 4,
 "nbformat_minor": 2
}